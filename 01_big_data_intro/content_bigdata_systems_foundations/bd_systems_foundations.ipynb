{
 "cells": [
  {
   "cell_type": "markdown",
   "metadata": {},
   "source": [
    "<img src=\"uva_seal.png\">  "
   ]
  },
  {
   "cell_type": "markdown",
   "metadata": {},
   "source": [
    "## Big Data Systems Foundations\n",
    "\n",
    "### University of Virginia\n",
    "### DS 5110: Big Data Systems\n",
    "### Last Updated: April 16, 2023\n",
    "\n",
    "---  \n",
    "\n",
    "\n",
    "### SOURCES\n",
    "\n",
    "Solution Architect's Handbook. 2nd ed. Saurabh Shrivastava and Neelanjali Srivastav.\n",
    "\n",
    "### OBJECTIVES\n",
    "- Introduce some big data system building blocks\n",
    "- Provide high-level description of big data systems\n",
    "\n",
    "### CONCEPTS\n",
    "\n",
    "- server\n",
    "- client\n",
    "- database\n",
    "- data warehouse\n",
    "- data lake\n",
    "- front end vs back end\n",
    "- scaling\n",
    "- streaming vs batch\n",
    "- architecture diagrams\n",
    "- horizontal scaling\n",
    "- vertical scaling\n",
    "- three-tier architecture\n",
    "- data ingestion\n",
    "\n",
    "---"
   ]
  },
  {
   "cell_type": "markdown",
   "metadata": {
    "tags": []
   },
   "source": [
    "### Introducing System Components\n",
    "\n",
    "Here we briefly describe components that will come up throughout the course:\n",
    "\n",
    "*server*: hardware or software providing a service to another computer program and its user, also known as the *client*.\n",
    "oftentimes, it is a beefy machine. examples: database server, web server.\n",
    "\n",
    "*client*: a **user program** that connects to a server to access a service. an example is a web browser.\n",
    "\n",
    "*database*: **organized collection of data**, typically stored electronically in a computer system. can be divided into relational and non-relational databases.\n",
    "\n",
    "*data warehouse*: central data repository for storing **structured data**. this is generally a collection of relational databases across an org.\n",
    "\n",
    "*data lake*: central data repository for **storing data of any structure**. the benefit is that unstructured and semi-structured data can be stored. \n",
    "\n",
    "*load balancer*: device to distribute a set of tasks over a set of resources (generally servers), to enable scale.  \n",
    "for example if a web server has traffic that overwhelms a server, a load balancer can be put in front of a set of servers.  \n",
    "the load balancer will send uniformly distributed data to the servers.\n"
   ]
  },
  {
   "cell_type": "markdown",
   "metadata": {},
   "source": [
    "<img src=\"load_balancer.png\" style=\"width:50%\">  "
   ]
  },
  {
   "cell_type": "markdown",
   "metadata": {},
   "source": [
    "\n",
    "*front end*: layer of a system that focuses on **visual aspects**, like the web site. typically UX people work on this part.\n",
    "\n",
    "*back end*: part of the system focused on structure, business logic and data. for example, the database resides in this part. \n",
    "\n",
    "*cloud solutions*: products and services offered by a *cloud provider* which offers pay-as-you-go pricing using their hardware and software.\n",
    "\n",
    "*cloud provider*: these companies maintain the hardware and software for customers to use. Currently, the most popular providers are:\n",
    "\n",
    "- Amazon Web Services (AWS)\n",
    "- Microsoft Azure\n",
    "- Google Cloud Platform (GCP)\n",
    "\n",
    "This course will focus on AWS services.\n",
    "\n",
    "---"
   ]
  },
  {
   "cell_type": "markdown",
   "metadata": {},
   "source": [
    "### Scaling\n",
    "\n",
    "When more computing resources are needed, two approaches are *horizontal scaling* and *vertical scaling*.  \n",
    "\n",
    "*vertical scaling*: adding resources to the server, such as CPUs, RAM, DISK.  \n",
    "- can be relatively expensive\n",
    "- there are hardware limits to this scaling\n",
    "- the server is a single point of failure - if it goes down, the application goes down with it\n",
    "\n",
    "*horizontal scaling*: adding more servers\n",
    "\n",
    "- cloud computing services make this easy\n",
    "- relatively inexpensive way to scale\n",
    "- extra servers provide redundancy and avoid single point of failure\n",
    "\n",
    "---"
   ]
  },
  {
   "cell_type": "markdown",
   "metadata": {},
   "source": [
    "### Types of Processing\n",
    "\n",
    "A **batch job** is a job run on a finite amount of data. This might consist of computing analytics or making a set of predictions.\n",
    "\n",
    "A **streaming job** runs on data that doesn't end. An example is processing data from a Twitter feed.\n",
    "\n",
    "We will examine each of these jobs in detail. Streaming is harder, since infinite data brings challenges such as what to save and when to report results.\n",
    "\n",
    "---"
   ]
  },
  {
   "cell_type": "markdown",
   "metadata": {},
   "source": [
    "### Architecture Diagrams\n",
    "\n",
    "*Architecture diagrams* illustrate a system at a high level for ease of understanding.\n",
    "\n",
    "They are typically created by solution architects and it is helpful to have familiarity.\n",
    "\n",
    "Below is an example of a *three-tier architecture*, which is very popular. The tiers consist of:\n",
    "\n",
    "1. design layer: front-end web site\n",
    "2. application layer (contains things like business logic, machine learning models)\n",
    "3. data layer: the database"
   ]
  },
  {
   "cell_type": "markdown",
   "metadata": {},
   "source": [
    "<img src=\"3tier_architecture.png\">  "
   ]
  },
  {
   "cell_type": "markdown",
   "metadata": {},
   "source": [
    "*source: Solution Architect's Handbook*"
   ]
  },
  {
   "cell_type": "markdown",
   "metadata": {},
   "source": [
    "The tiles represent components specific to Amazon Web Services (AWS), so let's unpack them:\n",
    "\n",
    "- EC2 comprises servers or *instances* as they call them. There is a set or fleet of instances to support the web layer\n",
    "and a separate set to support the application layer. These fleets can be scaled (removing or adding instances) as the job size changes; this type of scaling is an example of horizontal scaling.\n",
    "\n",
    "- Amazon RDS is a relational database service. It is good practice to maintain one or more backups for redundancy.\n",
    "Read replicas are common.\n",
    "\n",
    "- Amazon Route 53 is a DNS service that takes a web address like www.yahoo.com and maps it via a lookup table to its associated ip address.\n",
    "\n",
    "- Amazon S3 (simple storage service) is a data lake. Specifically it is an *object store* based on key-value pairs of data. This is a NoSQL database. It is very common to store all data in S3.\n",
    "\n",
    "We will look at other kinds of system architectures later in the course.\n",
    "\n",
    "---"
   ]
  },
  {
   "cell_type": "markdown",
   "metadata": {},
   "source": [
    "### Big Data System Process\n",
    "\n",
    "At a high level, the steps are:\n",
    "\n",
    "- Data Ingestion\n",
    "- Data Storage\n",
    "- Processing\n",
    "- Reporting & Visualization\n",
    "\n",
    "Given massive amounts of data, each of these steps are challenging to implement.\n",
    "\n",
    "Specialized software and hardware were invented to address some of the challenges.\n",
    "\n",
    "We briefly discuss each of these steps."
   ]
  },
  {
   "cell_type": "markdown",
   "metadata": {},
   "source": [
    "#### Data Ingestion\n",
    "\n",
    " *Data ingestion* consists of collecting data for transfer and storage.\n",
    " \n",
    " Data is typically ingested from databases, streams, logs or files.\n",
    " \n",
    " Specific tools for ingesting streaming data include Apache Kafka and Amazon Kinesis.\n",
    " \n",
    " Data comes from devices (sensors, phones, wearables), clickstream logs, server logs and images among other things.\n",
    " \n",
    " Data types include flat files, images, video and audio."
   ]
  },
  {
   "cell_type": "markdown",
   "metadata": {},
   "source": [
    "#### Data Storage\n",
    "\n",
    "Choices for data storage will depend on factors including the structure of the data and how it will be consumed.\n",
    "\n",
    "Most data at rest currently lives in a relational database (consisting of tables that can be joined with common fields).\n",
    "\n",
    "Semi-structured data (e.g., JSON) and unstructured data are often stored in NoSQL databases.\n",
    "\n",
    "JSON is very popular for passing data between applications (APIs) due to its simple, hierarchical structure.\n",
    "\n",
    "It often makes sense to combine different storage solutions to balance cost and latency (how fast the data must be delivered)."
   ]
  },
  {
   "cell_type": "markdown",
   "metadata": {},
   "source": [
    "#### Processing\n",
    "\n",
    "This is where tasks including analytics and predictive modeling take place.\n",
    "\n",
    "The results may be reported, visualized or stored.\n",
    "\n",
    "For big data processing, Spark is an excellent tool. It does in-memory processing, using RAM of each machine or *node*.\n",
    "\n",
    "We will spend much of the course working with Spark, in particular:\n",
    "\n",
    "- analytical processing\n",
    "- querying data with Spark SQL\n",
    "- machine learning with Spark MLlib\n",
    "- stream processing with Spark Streaming"
   ]
  },
  {
   "cell_type": "markdown",
   "metadata": {},
   "source": [
    "#### Reporting & Visualization\n",
    "\n",
    "This is often the last step: extracting insights and value from data.\n",
    "\n",
    "Popular tools include:\n",
    "- Tableau (for beautiful, interactive visuals)\n",
    "- Power BI (from Microsoft)\n",
    "- Kibana (open-source tool used for stream data visualization and logs)\n",
    "\n",
    "---"
   ]
  },
  {
   "cell_type": "markdown",
   "metadata": {},
   "source": [
    "### Next Steps\n",
    "\n",
    "Much more can be said on these topics. We will start to dive in and see how these ideas are applied."
   ]
  }
 ],
 "metadata": {
  "anaconda-cloud": {},
  "kernelspec": {
   "display_name": "Python 3 (ipykernel)",
   "language": "python",
   "name": "python3"
  },
  "language_info": {
   "codemirror_mode": {
    "name": "ipython",
    "version": 3
   },
   "file_extension": ".py",
   "mimetype": "text/x-python",
   "name": "python",
   "nbconvert_exporter": "python",
   "pygments_lexer": "ipython3",
   "version": "3.9.13"
  }
 },
 "nbformat": 4,
 "nbformat_minor": 4
}
